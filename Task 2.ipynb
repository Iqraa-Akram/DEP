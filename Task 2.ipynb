{
  "nbformat": 4,
  "nbformat_minor": 0,
  "metadata": {
    "colab": {
      "provenance": []
    },
    "kernelspec": {
      "name": "python3",
      "display_name": "Python 3"
    },
    "language_info": {
      "name": "python"
    }
  },
  "cells": [
    {
      "cell_type": "code",
      "execution_count": 1,
      "metadata": {
        "colab": {
          "base_uri": "https://localhost:8080/"
        },
        "id": "dHhoRLg11Poq",
        "outputId": "ac83e5ed-59c1-4501-c467-c389643c340c"
      },
      "outputs": [
        {
          "output_type": "stream",
          "name": "stdout",
          "text": [
            "Accuracy: 0.9478260869565217\n",
            "Confusion Matrix:\n",
            " [[709  33]\n",
            " [ 21 272]]\n",
            "Classification Report:\n",
            "               precision    recall  f1-score   support\n",
            "\n",
            "         ham       0.97      0.96      0.96       742\n",
            "        spam       0.89      0.93      0.91       293\n",
            "\n",
            "    accuracy                           0.95      1035\n",
            "   macro avg       0.93      0.94      0.94      1035\n",
            "weighted avg       0.95      0.95      0.95      1035\n",
            "\n",
            "Best Parameters: {'alpha': 0.1}\n",
            "Best Score: 0.9572051942589768\n",
            "Prediction: ['spam']\n"
          ]
        }
      ],
      "source": [
        "# Import Libraries\n",
        "import pandas as pd\n",
        "from sklearn.model_selection import train_test_split\n",
        "from sklearn.feature_extraction.text import TfidfVectorizer\n",
        "from sklearn.naive_bayes import MultinomialNB\n",
        "from sklearn.metrics import classification_report, confusion_matrix, accuracy_score\n",
        "from sklearn.model_selection import GridSearchCV\n",
        "import joblib\n",
        "\n",
        "# Step 1: Load and Preprocess the Data\n",
        "# Load dataset (replace with your actual dataset file)\n",
        "data = pd.read_csv('spam_ham_dataset.csv')  # Ensure the dataset has 'text' and 'label' columns\n",
        "\n",
        "# Preprocess the data\n",
        "data['text'] = data['text'].str.lower()  # Convert to lowercase\n",
        "\n",
        "# Split dataset into features and labels\n",
        "X = data['text']\n",
        "y = data['label']\n",
        "\n",
        "# Split the dataset into training and testing sets\n",
        "X_train, X_test, y_train, y_test = train_test_split(X, y, test_size=0.2, random_state=42)\n",
        "\n",
        "# Step 2: Feature Extraction (TF-IDF)\n",
        "vectorizer = TfidfVectorizer(max_features=3000)  # You can adjust max_features as needed\n",
        "X_train_tfidf = vectorizer.fit_transform(X_train)\n",
        "X_test_tfidf = vectorizer.transform(X_test)\n",
        "\n",
        "# Step 3: Model Selection and Training\n",
        "model = MultinomialNB()\n",
        "model.fit(X_train_tfidf, y_train)\n",
        "\n",
        "# Step 4: Model Evaluation\n",
        "y_pred = model.predict(X_test_tfidf)\n",
        "\n",
        "print(\"Accuracy:\", accuracy_score(y_test, y_pred))\n",
        "print(\"Confusion Matrix:\\n\", confusion_matrix(y_test, y_pred))\n",
        "print(\"Classification Report:\\n\", classification_report(y_test, y_pred))\n",
        "\n",
        "# Step 5: Hyperparameter Tuning (Optional)\n",
        "param_grid = {'alpha': [0.1, 0.5, 1.0]}  # Example parameter grid for MultinomialNB\n",
        "grid_search = GridSearchCV(MultinomialNB(), param_grid, cv=5, scoring='accuracy')\n",
        "grid_search.fit(X_train_tfidf, y_train)\n",
        "\n",
        "print(\"Best Parameters:\", grid_search.best_params_)\n",
        "print(\"Best Score:\", grid_search.best_score_)\n",
        "\n",
        "# Step 6: Save the Model (Optional)\n",
        "joblib.dump(model, 'spam_classifier_model.pkl')\n",
        "joblib.dump(vectorizer, 'tfidf_vectorizer.pkl')\n",
        "\n",
        "# Step 7: Load the Model and Predict New Emails (Optional)\n",
        "# Load the model and vectorizer\n",
        "model = joblib.load('spam_classifier_model.pkl')\n",
        "vectorizer = joblib.load('tfidf_vectorizer.pkl')\n",
        "\n",
        "# Predict on a new email\n",
        "new_email = [\"Congratulations! You've won a $1000 gift card. Click here to claim.\"]\n",
        "new_email_tfidf = vectorizer.transform(new_email)\n",
        "prediction = model.predict(new_email_tfidf)\n",
        "\n",
        "print(\"Prediction:\", prediction)  # 'spam' or 'not spam'\n"
      ]
    }
  ]
}